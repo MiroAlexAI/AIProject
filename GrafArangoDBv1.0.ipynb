{
 "cells": [
  {
   "cell_type": "code",
   "execution_count": null,
   "metadata": {},
   "outputs": [],
   "source": [
    "import pandas as pd\n",
    "from pyArango.connection import *\n",
    "\n",
    "\n",
    "conn = Connection(username=\"root\", password=\"12341234\", arangoURL=\"http://localhost:8529\")\n",
    "db = conn[\"_system\"]\n",
    "collection = db[\"Testbd\"]\n",
    "for record in records:\n",
    "    collection.createDocument(record).save()"
   ]
  },
  {
   "cell_type": "code",
   "execution_count": null,
   "metadata": {},
   "outputs": [],
   "source": [
    "df = pd.read_csv('my_data.csv')\n",
    "\n",
    "records = df.to_dict('records')"
   ]
  },
  {
   "cell_type": "code",
   "execution_count": null,
   "metadata": {},
   "outputs": [],
   "source": [
    "conn = Connection(username=\"root\", password=\"12341234\", arangoURL=\"http://localhost:8529\")\n",
    "db = conn[\"_system\"]\n",
    "collection = db[\"Testbd\"]\n",
    "for record in records:\n",
    "    collection.createDocument(record).save()"
   ]
  }
 ],
 "metadata": {
  "kernelspec": {
   "display_name": "Python 3",
   "language": "python",
   "name": "python3"
  },
  "language_info": {
   "name": "python",
   "version": "3.7.9 (tags/v3.7.9:13c94747c7, Aug 17 2020, 18:58:18) [MSC v.1900 64 bit (AMD64)]"
  },
  "orig_nbformat": 4,
  "vscode": {
   "interpreter": {
    "hash": "2dc731bd520f04882aac2ffd7e6f8e5dac0b3b4967a155c7140c4ba8502ff4bd"
   }
  }
 },
 "nbformat": 4,
 "nbformat_minor": 2
}
