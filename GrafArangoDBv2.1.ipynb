{
 "cells": [
  {
   "cell_type": "code",
   "execution_count": 10,
   "metadata": {},
   "outputs": [],
   "source": [
    "import pandas as pd\n",
    "from pyArango.connection import *"
   ]
  },
  {
   "cell_type": "code",
   "execution_count": 11,
   "metadata": {},
   "outputs": [],
   "source": [
    "from pyArango.collection import Collection, Field\n",
    "from pyArango.graph import Graph, EdgeDefinition"
   ]
  },
  {
   "cell_type": "code",
   "execution_count": 3,
   "metadata": {},
   "outputs": [],
   "source": [
    "\n",
    "df = pd.read_csv('data_test.csv')\n",
    "\n",
    "records = df.to_dict('records')"
   ]
  },
  {
   "cell_type": "code",
   "execution_count": 13,
   "metadata": {},
   "outputs": [],
   "source": [
    "from py2neo import Graph, Node, Relationship\n",
    "import csv\n",
    "\n",
    "# Подключение к базе данных\n",
    "graph = Graph(\"bolt://localhost:7687\", auth=(\"python\", \"123123\"))"
   ]
  },
  {
   "cell_type": "code",
   "execution_count": 15,
   "metadata": {},
   "outputs": [],
   "source": [
    "\n",
    "# Запись данных в БД из файла\n",
    "# Открытие CSV-файла и чтение данных\n",
    "with open('data_test.csv', newline='', encoding='utf-8') as f:\n",
    "    reader = csv.DictReader(f, delimiter=';')\n",
    "    for row in reader:\n",
    "        event_id = row['\\ufeffid события']\n",
    "        participant1_name = row['ФИО участника события 1']\n",
    "        participant2_name = row['ФИО участника события 2']\n",
    "        \n",
    "        # Создание узлов\n",
    "        participant1_node = Node(\"Person\", name=participant1_name)\n",
    "        participant2_node = Node(\"Person2\", name=participant2_name)\n",
    "        event_node = Node(\"Event\", id=event_id)\n",
    "        \n",
    "        # Создание отношений\n",
    "        participant1_relation = Relationship(event_node, \"PARTICIPATED_IN\", participant1_node)\n",
    "        participant2_relation = Relationship(event_node, \"PARTICIPATED_IN\", participant2_node)\n",
    "        \n",
    "        # Добавление узлов и отношений в базу данных\n",
    "        graph.create(participant1_node)\n",
    "        graph.create(participant2_node)\n",
    "        graph.create(event_node)\n",
    "        graph.create(participant1_relation)\n",
    "        graph.create(participant2_relation)"
   ]
  },
  {
   "cell_type": "code",
   "execution_count": 38,
   "metadata": {},
   "outputs": [],
   "source": [
    "import requests\n",
    "\n",
    "# Задаем URL для API\n",
    "url_py = 'http://127.0.0.1:5000/api/get_person_data_py'\n",
    "url_api_py= 'http://127.0.0.1:5000/api_py'\n"
   ]
  },
  {
   "cell_type": "code",
   "execution_count": 39,
   "metadata": {},
   "outputs": [
    {
     "name": "stdout",
     "output_type": "stream",
     "text": [
      "[{'count': 50, 'name': 'Ахромеева Алина Ивановна'}, {'count': 14, 'name': 'Башнина Антонина Глебовна'}, {'count': 6, 'name': 'Медведева Дарья Алексеевна'}, {'count': 3, 'name': 'Пафомова Кира Вадимовна'}, {'count': 2, 'name': 'Ляуданский Валентин Владиславович'}, {'count': 5, 'name': 'Зимнухова Карина Даниловна'}, {'count': 2, 'name': 'Недовесков Владимир Иванович'}, {'count': 2, 'name': 'Подолян Владислав Денисович'}, {'count': 4, 'name': 'Шолохов Игорь Робертович'}, {'count': 3, 'name': 'Двигубская Валентина Геннадьевна'}, {'count': 2, 'name': 'Даниленко Владимир Семенович'}, {'count': 2, 'name': 'Батиевская Ангелина Романовна'}, {'count': 2, 'name': 'Майлина Гульнара Ивановна'}, {'count': 2, 'name': 'Каехтин Ильдар Эдуардович'}, {'count': 2, 'name': 'Анихнова Тамара Руслановна'}, {'count': 2, 'name': 'Ивашев Вячеслав Игоревич'}, {'count': 5, 'name': 'Диомидов Игорь Ильдарович'}, {'count': 2, 'name': 'Рыскина Эльмира Ивановна'}, {'count': 2, 'name': 'Нагайцева Анжелика Яновна'}, {'count': 2, 'name': 'Троекуров Глеб Ефимович'}, {'count': 2, 'name': 'Радионова Тамара Ярославовна'}, {'count': 2, 'name': 'Бугайчук Роман Эдуардович'}, {'count': 2, 'name': 'Дорожкин Анатолий Егорович'}, {'count': 2, 'name': 'Яцкой Роберт Ильдарович'}, {'count': 2, 'name': 'Мараховская Дарья Романовна'}, {'count': 2, 'name': 'Торгунаков Роман Кириллович'}, {'count': 2, 'name': 'Поскребышев Яков Дмитриевич'}]\n"
     ]
    }
   ],
   "source": [
    "response = requests.post(url_api_py,json='', headers={\"Content-Type\": \"application/json\"})\n",
    "\n",
    "# Обрабатываем ответ от сервера\n",
    "if response.status_code == 200:\n",
    "    # Получаем данные в формате JSON\n",
    "    person_data = response.json()\n",
    "    # Делаем что-то с полученными данными\n",
    "    print('Участники с повторными событиями')\n",
    "    print (person_data)\n",
    "else:\n",
    "    print(f'Ошибка при обращении к API: {response.status_code} {response.text}')"
   ]
  },
  {
   "cell_type": "code",
   "execution_count": 42,
   "metadata": {},
   "outputs": [
    {
     "name": "stdout",
     "output_type": "stream",
     "text": [
      "Связанные события и 2й участник:\n",
      "[{'Events.id': '66267', 'Persons2.name': 'Павлючиков Максим Филиппович'}, {'Events.id': '208421', 'Persons2.name': 'Сергулин Егор Глебович'}, {'Events.id': '224711', 'Persons2.name': 'Аргентовская Евгения Евгеньевна'}, {'Events.id': '292757', 'Persons2.name': 'Купоров Григорий Станиславович'}, {'Events.id': '370508', 'Persons2.name': 'Сусайкин Владимир Ярославович'}, {'Events.id': '379611', 'Persons2.name': 'Габов Борис Марселевич'}, {'Events.id': '385035', 'Persons2.name': 'Головушина Алла Филипповна'}, {'Events.id': '484562', 'Persons2.name': 'Акрамова Людмила Альбертовна'}, {'Events.id': '495988', 'Persons2.name': 'Алябышева Диана Ярославовна'}, {'Events.id': '522249', 'Persons2.name': 'Челомбитько Тимофей Антонович'}, {'Events.id': '563736', 'Persons2.name': 'Фефилов Дмитрий Янович'}, {'Events.id': '663659', 'Persons2.name': 'Жандарев Виктор Глебович'}, {'Events.id': '858935', 'Persons2.name': 'Недоквасов Владислав Константинович'}, {'Events.id': '918855', 'Persons2.name': 'Казак Николай Русланович'}]\n"
     ]
    }
   ],
   "source": [
    "# Параметры запроса, например, ФИО человека\n",
    "params = {\n",
    "    'name':'Башнина Антонина Глебовна'\n",
    "}\n",
    "\n",
    "# Отправляем POST-запрос к API с параметрами\n",
    "response = requests.post(url_py,json=params, headers={\"Content-Type\": \"application/json\"})\n",
    "\n",
    "# Обрабатываем ответ от сервера\n",
    "if response.status_code == 200:\n",
    "    # Получаем данные в формате JSON\n",
    "    person_data = response.json()\n",
    "   \n",
    "    # Делаем что-то с полученными данными\n",
    "    print ('Связанные события и 2й участник:')\n",
    "    print (person_data)\n",
    "else:\n",
    "    print(f'Ошибка при обращении к API: {response.status_code} {response.text}')"
   ]
  }
 ],
 "metadata": {
  "kernelspec": {
   "display_name": "VCenv",
   "language": "python",
   "name": "python3"
  },
  "language_info": {
   "codemirror_mode": {
    "name": "ipython",
    "version": 3
   },
   "file_extension": ".py",
   "mimetype": "text/x-python",
   "name": "python",
   "nbconvert_exporter": "python",
   "pygments_lexer": "ipython3",
   "version": "3.7.9"
  },
  "orig_nbformat": 4,
  "vscode": {
   "interpreter": {
    "hash": "80b4851f81d418ed7da827e21e450740a413bc8b76ccf3448442242b916f5862"
   }
  }
 },
 "nbformat": 4,
 "nbformat_minor": 2
}
